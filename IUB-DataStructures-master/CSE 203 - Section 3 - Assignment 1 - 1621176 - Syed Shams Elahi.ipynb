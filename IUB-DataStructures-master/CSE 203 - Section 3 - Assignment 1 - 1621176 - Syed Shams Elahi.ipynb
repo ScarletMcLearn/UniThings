{
 "cells": [
  {
   "cell_type": "markdown",
   "metadata": {},
   "source": [
    "# Name: Syed Shams Elahi\n",
    "## ID: 1621176\n",
    "## Course: Data Structures - CSE 203\n",
    "## Assignment 1"
   ]
  },
  {
   "cell_type": "markdown",
   "metadata": {},
   "source": [
    "In the first problem a diamond was formed using a recursive call involving a formula that uses bitshifting values to generate the required sequence of values for the recursive call to obtain the pattern below. "
   ]
  },
  {
   "cell_type": "code",
   "execution_count": 9,
   "metadata": {
    "collapsed": false
   },
   "outputs": [
    {
     "name": "stdout",
     "output_type": "stream",
     "text": [
      "    * \n",
      "  * * * \n",
      "* * * * * \n",
      "  * * * \n",
      "    * \n"
     ]
    }
   ],
   "source": [
    "def triangles(n):\n",
    "#     if not n & 1:\n",
    "#         raise ValueError('n must be odd')\n",
    "    print_diamond(0, n, n >> 1)\n",
    "\n",
    "def print_diamond(start, stop, midpoint):\n",
    "    if start < stop:\n",
    "        if start <= midpoint:\n",
    "            print('  ' * (midpoint - start) + '* ' * ((start << 1) + 1))\n",
    "        else:\n",
    "            print('  ' * (start - midpoint) + '* ' * ((stop - start << 1) - 1))\n",
    "        print_diamond(start + 1, stop, midpoint)\n",
    "        \n",
    "triangles(5)"
   ]
  },
  {
   "cell_type": "code",
   "execution_count": 11,
   "metadata": {
    "collapsed": false
   },
   "outputs": [
    {
     "name": "stdout",
     "output_type": "stream",
     "text": [
      "  * \n",
      "* * * \n",
      "  * \n"
     ]
    }
   ],
   "source": [
    "triangles(3)"
   ]
  },
  {
   "cell_type": "code",
   "execution_count": 5,
   "metadata": {
    "collapsed": false
   },
   "outputs": [
    {
     "name": "stdout",
     "output_type": "stream",
     "text": [
      "5 5 5 5 5 "
     ]
    }
   ],
   "source": [
    "def print_same_value(n, m):\n",
    "    if (n == 0):\n",
    "        return\n",
    "    print_same_value(n-1, m)\n",
    "    print(str(m) + \" \", end=\"\")\n",
    "    \n",
    "print_same_value(5, 5)\n",
    "    "
   ]
  },
  {
   "cell_type": "code",
   "execution_count": 8,
   "metadata": {
    "collapsed": false
   },
   "outputs": [
    {
     "name": "stdout",
     "output_type": "stream",
     "text": [
      "1 0 1 0 1 \n",
      "\n",
      "        1 \n",
      "      1 0 \n",
      "    1 0 1 \n",
      "  1 0 1 0 \n",
      "1 0 1 0 1 \n"
     ]
    }
   ],
   "source": [
    "def print_space(n):\n",
    "    if (n == 0):\n",
    "        return\n",
    "    print_space(n-1)\n",
    "    print(\" \", end=\" \")\n",
    "    \n",
    "# print_space(4)\n",
    "\n",
    "\n",
    "def print_binary_value(n, m):\n",
    "    if (n == 0):\n",
    "        return\n",
    "    print_binary_value(n-1, m)\n",
    "    \n",
    "    if (n % 2 == 0):\n",
    "        print(str(0) + \" \", end=\"\")\n",
    "    else:\n",
    "        print(str(1) + \" \", end=\"\")\n",
    "    \n",
    "print_binary_value(5, 5)\n",
    "    \n",
    "\n",
    "\n",
    "def print_same_binary_value(n, m):\n",
    "    if (n == 0):\n",
    "        return\n",
    "    \n",
    "    print_same_binary_value(n-1, m)\n",
    "    print_space(m - n)\n",
    "    print_binary_value(n, n)\n",
    "    \n",
    "    print()\n",
    "    \n",
    "print()\n",
    "print()\n",
    "\n",
    "print_same_binary_value(5, 5)"
   ]
  }
 ],
 "metadata": {
  "kernelspec": {
   "display_name": "Python 3",
   "language": "python",
   "name": "python3"
  },
  "language_info": {
   "codemirror_mode": {
    "name": "ipython",
    "version": 3
   },
   "file_extension": ".py",
   "mimetype": "text/x-python",
   "name": "python",
   "nbconvert_exporter": "python",
   "pygments_lexer": "ipython3",
   "version": "3.5.2"
  }
 },
 "nbformat": 4,
 "nbformat_minor": 2
}
