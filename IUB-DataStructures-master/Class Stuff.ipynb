{
 "cells": [
  {
   "cell_type": "markdown",
   "metadata": {},
   "source": [
    "# First  Class - OOP and Header File"
   ]
  },
  {
   "cell_type": "code",
   "execution_count": 3,
   "metadata": {
    "collapsed": false
   },
   "outputs": [
    {
     "name": "stdout",
     "output_type": "stream",
     "text": [
      "Welcome to the grade book for No Course Set Yet!\n",
      "hello\n"
     ]
    }
   ],
   "source": [
    "import Header as GB"
   ]
  },
  {
   "cell_type": "code",
   "execution_count": 4,
   "metadata": {
    "collapsed": false
   },
   "outputs": [
    {
     "name": "stdout",
     "output_type": "stream",
     "text": [
      "The current  course name is: No Course Set Yet\n"
     ]
    }
   ],
   "source": [
    "Course = GB.GradeBook()\n",
    "\n",
    "print('The current  course name is: ' + Course.get_course_name())"
   ]
  },
  {
   "cell_type": "code",
   "execution_count": 5,
   "metadata": {
    "collapsed": true
   },
   "outputs": [],
   "source": [
    "# course_name = input(\"Please Enter Your Course Name: \")\n",
    "\n",
    "course_name =  \"CSE 203\"\n",
    "\n",
    "Course.set_course_name(course_name)\n"
   ]
  },
  {
   "cell_type": "code",
   "execution_count": 6,
   "metadata": {
    "collapsed": false
   },
   "outputs": [
    {
     "data": {
      "text/plain": [
       "'CSE 203'"
      ]
     },
     "execution_count": 6,
     "metadata": {},
     "output_type": "execute_result"
    }
   ],
   "source": [
    "Course.get_course_name()"
   ]
  },
  {
   "cell_type": "code",
   "execution_count": 7,
   "metadata": {
    "collapsed": false
   },
   "outputs": [
    {
     "name": "stdout",
     "output_type": "stream",
     "text": [
      "Welcome to the grade book for CSE 203!\n"
     ]
    }
   ],
   "source": [
    "Course.display_message()"
   ]
  },
  {
   "cell_type": "markdown",
   "metadata": {},
   "source": [
    "# Second Class - Recursion"
   ]
  },
  {
   "cell_type": "markdown",
   "metadata": {},
   "source": [
    "## Ez gulo age kore ne"
   ]
  },
  {
   "cell_type": "code",
   "execution_count": 8,
   "metadata": {
    "collapsed": false
   },
   "outputs": [
    {
     "data": {
      "text/plain": [
       "16"
      ]
     },
     "execution_count": 8,
     "metadata": {},
     "output_type": "execute_result"
    }
   ],
   "source": [
    "def exp(x, y):\n",
    "    if (y == 1):\n",
    "        return x\n",
    "    else:\n",
    "        return ( exp(x, y-1) * x)\n",
    "    \n",
    "exp(2,4)"
   ]
  },
  {
   "cell_type": "code",
   "execution_count": 9,
   "metadata": {
    "collapsed": false,
    "scrolled": true
   },
   "outputs": [
    {
     "data": {
      "text/plain": [
       "120"
      ]
     },
     "execution_count": 9,
     "metadata": {},
     "output_type": "execute_result"
    }
   ],
   "source": [
    "def fibo(n):\n",
    "    if (n == 0):\n",
    "        return 1\n",
    "    elif (n == 1):\n",
    "        return 1\n",
    "    elif (n < 0):\n",
    "        print(\"Invalid Input!\")\n",
    "#         return\n",
    "    else:\n",
    "        return ( fibo(n-1) * n)\n",
    "    \n",
    "\n",
    "fibo(5)"
   ]
  },
  {
   "cell_type": "code",
   "execution_count": 10,
   "metadata": {
    "collapsed": false,
    "scrolled": true
   },
   "outputs": [
    {
     "name": "stdout",
     "output_type": "stream",
     "text": [
      "13\n"
     ]
    }
   ],
   "source": [
    "def fibonacci(n):  \n",
    "  if n == 1 or n == 2:  \n",
    "    return 1  \n",
    "  else:  \n",
    "    return (fibonacci(n - 1) + (fibonacci(n - 2)))  \n",
    "  h\n",
    "print(fibonacci(7))"
   ]
  },
  {
   "cell_type": "code",
   "execution_count": 11,
   "metadata": {
    "collapsed": false
   },
   "outputs": [
    {
     "name": "stdout",
     "output_type": "stream",
     "text": [
      "Boom!\n",
      "Boom!\n",
      "Boom!\n",
      "Boom!\n",
      "Boom!\n"
     ]
    }
   ],
   "source": [
    "def recur(counter):\n",
    "    if (counter == 0):\n",
    "        return\n",
    "    else:\n",
    "        print(\"Boom!\")\n",
    "        recur(counter-1)\n",
    "        \n",
    "recur(5)"
   ]
  },
  {
   "cell_type": "code",
   "execution_count": 12,
   "metadata": {
    "collapsed": false
   },
   "outputs": [
    {
     "name": "stdout",
     "output_type": "stream",
     "text": [
      "3 2 1 0\n"
     ]
    },
    {
     "data": {
      "text/plain": [
       "0"
      ]
     },
     "execution_count": 12,
     "metadata": {},
     "output_type": "execute_result"
    }
   ],
   "source": [
    "def seq_reverse(term):\n",
    "    if (term == 0):\n",
    "        print(0)\n",
    "        return 0\n",
    "    else:\n",
    "        print(term, end=\" \")\n",
    "        return(seq_reverse(term-1))\n",
    "    \n",
    "seq_reverse(3)"
   ]
  },
  {
   "cell_type": "code",
   "execution_count": 13,
   "metadata": {
    "collapsed": false
   },
   "outputs": [
    {
     "name": "stdout",
     "output_type": "stream",
     "text": [
      "3 2 1 0\n",
      "None\n"
     ]
    }
   ],
   "source": [
    "def seq_reverse_sum(term, sum_var):\n",
    "    sum_var = 0\n",
    "    if (term == 0):\n",
    "        print(0)\n",
    "    \n",
    "        return sum_var\n",
    "    else:\n",
    "        print(term, end=\" \")\n",
    "        sum_var = sum_var + term\n",
    "        (seq_reverse_sum(term-1, sum_var))\n",
    "        \n",
    "    \n",
    "p = 0\n",
    "p = seq_reverse_sum(3, p)\n",
    "\n",
    "print(p)\n"
   ]
  },
  {
   "cell_type": "code",
   "execution_count": 14,
   "metadata": {
    "collapsed": false
   },
   "outputs": [
    {
     "name": "stdout",
     "output_type": "stream",
     "text": [
      "5\n"
     ]
    }
   ],
   "source": [
    "def fib(n):\n",
    "    if n == 0:\n",
    "        return 0\n",
    "    elif n == 1:\n",
    "        return 1\n",
    "    else:\n",
    "        return fib(n-1) + fib(n-2)\n",
    "\n",
    "print(fib(5))"
   ]
  },
  {
   "cell_type": "code",
   "execution_count": 15,
   "metadata": {
    "collapsed": false
   },
   "outputs": [
    {
     "data": {
      "text/plain": [
       "10"
      ]
     },
     "execution_count": 15,
     "metadata": {},
     "output_type": "execute_result"
    }
   ],
   "source": [
    "def sum_of_list(list):\n",
    "    if (len(list) == 1):\n",
    "        return (list[0])\n",
    "    return (sum_of_list(list[1:]) + list[0])\n",
    "\n",
    "# list = [1,2,3]\n",
    "\n",
    "list = [1,2,3, 4]\n",
    "\n",
    "\n",
    "sum_of_list(list)"
   ]
  },
  {
   "cell_type": "markdown",
   "metadata": {},
   "source": [
    "Arryt, this break this *$# bitch down.\n",
    "\n",
    "012 345 678 91011\n",
    "012 012 012 012\n",
    "*$/#*$/#*$/#*$/#"
   ]
  },
  {
   "cell_type": "code",
   "execution_count": 16,
   "metadata": {
    "collapsed": false
   },
   "outputs": [
    {
     "name": "stdout",
     "output_type": "stream",
     "text": [
      "*$#*$#"
     ]
    }
   ],
   "source": [
    "def star_dollar_hash(n):\n",
    "    \n",
    "    if (n == -1): return\n",
    "    \n",
    "    star_dollar_hash(n - 1)\n",
    "    \n",
    "    if (n % 3 == 0):\n",
    "        print(\"*\", end=\"\")\n",
    "#         return\n",
    "    elif (n % 3 == 1):\n",
    "        print(\"$\", end=\"\")\n",
    "#         return\n",
    "    else:\n",
    "        print(\"#\", end=\"\")\n",
    "#         return\n",
    "    \n",
    "star_dollar_hash(5)"
   ]
  },
  {
   "cell_type": "code",
   "execution_count": 17,
   "metadata": {
    "collapsed": false
   },
   "outputs": [
    {
     "name": "stdout",
     "output_type": "stream",
     "text": [
      "\n",
      "2\n",
      "9\n"
     ]
    }
   ],
   "source": [
    "def g(x):\n",
    "#     print(x)\n",
    "    if(x == 1):\n",
    " ##       print(1)\n",
    "        return(1)\n",
    "    a = (g(x-1) + 1)\n",
    "##    print(a)\n",
    "    return(a)\n",
    "    \n",
    "\n",
    "# print(g(4))\n",
    "\n",
    "print()\n",
    "\n",
    "def g(x):\n",
    "##    print(x)\n",
    "    if(x == 1):\n",
    "#         print(1)\n",
    "        return(1)\n",
    "    a = (g(x-1) + 1)\n",
    "#     print(a)\n",
    "    return(a)\n",
    "\n",
    "def f(x):\n",
    "    \n",
    "    if (x == 1):\n",
    "        return (0)\n",
    "    return ( (f(x-1)) + g(x))\n",
    "\n",
    "print(g(2))\n",
    "\n",
    "print(f(4))"
   ]
  },
  {
   "cell_type": "code",
   "execution_count": 18,
   "metadata": {
    "collapsed": false
   },
   "outputs": [
    {
     "data": {
      "text/plain": [
       "5"
      ]
     },
     "execution_count": 18,
     "metadata": {},
     "output_type": "execute_result"
    }
   ],
   "source": [
    "def lenth(x):\n",
    "    if (x < 10): return (1)\n",
    "    return (lenth(x/10) + 1)\n",
    "\n",
    "lenth(40234)\n"
   ]
  },
  {
   "cell_type": "code",
   "execution_count": 19,
   "metadata": {
    "collapsed": false
   },
   "outputs": [
    {
     "name": "stdout",
     "output_type": "stream",
     "text": [
      "3\n",
      "5\n",
      "7\n",
      "9\n",
      "11\n",
      "13\n",
      "15\n",
      "17\n",
      "19\n"
     ]
    },
    {
     "data": {
      "text/plain": [
       "3"
      ]
     },
     "execution_count": 19,
     "metadata": {},
     "output_type": "execute_result"
    }
   ],
   "source": [
    "def print_even_odd_to_lim(a, lim):\n",
    "    print(a)\n",
    "    \n",
    "    if (lim % a != 0):\n",
    "        lim = lim + 1\n",
    "        \n",
    "    if (a > lim):\n",
    "        return (lim)\n",
    "    p = (print_even_odd_to_lim(a + 2, lim) + a)\n",
    "#     print(a)\n",
    "    return (a)\n",
    "\n",
    "lim = 10\n",
    "print_even_odd_to_lim(3, lim)\n",
    "\n",
    "# print(lim)"
   ]
  },
  {
   "cell_type": "code",
   "execution_count": 20,
   "metadata": {
    "collapsed": false
   },
   "outputs": [
    {
     "name": "stdout",
     "output_type": "stream",
     "text": [
      "2\n",
      "3\n",
      "4\n",
      "5\n",
      "6\n",
      "7\n",
      "8\n",
      "9\n",
      "10\n",
      "11\n"
     ]
    }
   ],
   "source": [
    "def series_of_odeven(n, lim):\n",
    "    if (n > lim):\n",
    "        return\n",
    "    print(n)\n",
    "    series_of_odeven(n+1, lim)\n",
    "    \n",
    "series_of_odeven(2, 11)"
   ]
  },
  {
   "cell_type": "code",
   "execution_count": 21,
   "metadata": {
    "collapsed": false
   },
   "outputs": [
    {
     "data": {
      "text/plain": [
       "1"
      ]
     },
     "execution_count": 21,
     "metadata": {},
     "output_type": "execute_result"
    }
   ],
   "source": [
    "def hcf(a, b):\n",
    "    if (b == 0):\n",
    "        return (a)\n",
    "    return (hcf(b, a%b))\n",
    "\n",
    "hcf(7, 2)"
   ]
  },
  {
   "cell_type": "markdown",
   "metadata": {},
   "source": [
    "Make Classes"
   ]
  },
  {
   "cell_type": "code",
   "execution_count": 22,
   "metadata": {
    "collapsed": false
   },
   "outputs": [
    {
     "ename": "NameError",
     "evalue": "name 'test' is not defined",
     "output_type": "error",
     "traceback": [
      "\u001b[0;31m---------------------------------------------------------------------------\u001b[0m",
      "\u001b[0;31mNameError\u001b[0m                                 Traceback (most recent call last)",
      "\u001b[0;32m<ipython-input-22-479b7bf4ae4b>\u001b[0m in \u001b[0;36m<module>\u001b[0;34m()\u001b[0m\n\u001b[1;32m     19\u001b[0m \u001b[0;34m\u001b[0m\u001b[0m\n\u001b[1;32m     20\u001b[0m \u001b[0;34m\u001b[0m\u001b[0m\n\u001b[0;32m---> 21\u001b[0;31m \u001b[0mtest\u001b[0m\u001b[0;34m.\u001b[0m\u001b[0mprint_assending\u001b[0m\u001b[0;34m(\u001b[0m\u001b[0;36m5\u001b[0m\u001b[0;34m)\u001b[0m\u001b[0;34m\u001b[0m\u001b[0m\n\u001b[0m\u001b[1;32m     22\u001b[0m \u001b[0;34m\u001b[0m\u001b[0m\n\u001b[1;32m     23\u001b[0m \u001b[0mprint_assending\u001b[0m\u001b[0;34m(\u001b[0m\u001b[0;36m3\u001b[0m\u001b[0;34m)\u001b[0m\u001b[0;34m\u001b[0m\u001b[0m\n",
      "\u001b[0;31mNameError\u001b[0m: name 'test' is not defined"
     ]
    }
   ],
   "source": [
    "# class Patterns:\n",
    "#     def __init__(self):\n",
    "#         pass\n",
    "    \n",
    "#     def print_assending(self, n):\n",
    "#         if (n==0):\n",
    "#             return\n",
    "#         print_assending(n-1)\n",
    "#         print(n)\n",
    "        \n",
    "    \n",
    "def print_assending(n):\n",
    "        if (n==0):\n",
    "            return\n",
    "        print_assending(n-1)\n",
    "        print(n, end=\" \")\n",
    "        \n",
    "# test = Patterns()\n",
    "\n",
    "\n",
    "test.print_assending(5)\n",
    "        \n",
    "print_assending(3)"
   ]
  },
  {
   "cell_type": "code",
   "execution_count": 23,
   "metadata": {
    "collapsed": false,
    "scrolled": true
   },
   "outputs": [
    {
     "name": "stdout",
     "output_type": "stream",
     "text": [
      "5 4 3 2 1 "
     ]
    }
   ],
   "source": [
    "def print_descending(n):\n",
    "    if (n == 0):\n",
    "        return\n",
    "    print(n, end= \" \")\n",
    "    print_descending(n - 1)\n",
    "    \n",
    "print_descending(5)"
   ]
  },
  {
   "cell_type": "code",
   "execution_count": 24,
   "metadata": {
    "collapsed": false
   },
   "outputs": [
    {
     "name": "stdout",
     "output_type": "stream",
     "text": [
      "          "
     ]
    }
   ],
   "source": [
    "def print_space(n):\n",
    "    if (n == 0):\n",
    "        return\n",
    "    print_space(n-1)\n",
    "    print(\" \", end=\" \")\n",
    "    \n",
    "print_space(5)"
   ]
  },
  {
   "cell_type": "code",
   "execution_count": 25,
   "metadata": {
    "collapsed": false
   },
   "outputs": [
    {
     "name": "stdout",
     "output_type": "stream",
     "text": [
      "        1 \n",
      "      1 2 1 \n",
      "    1 2 3 2 1 \n",
      "  1 2 3 4 3 2 1 \n",
      "1 2 3 4 5 4 3 2 1 \n"
     ]
    }
   ],
   "source": [
    "def print_upper_half_diamond(n, m):\n",
    "    if (n == 0):\n",
    "        return\n",
    "    \n",
    "    print_upper_half_diamond(n - 1, m)\n",
    "    \n",
    "    print_space(m-n)\n",
    "    \n",
    "    print_assending(n)\n",
    "    \n",
    "    print_descending(n-1)\n",
    "    \n",
    "    print()\n",
    "    \n",
    "    \n",
    "print_upper_half_diamond(5, 5)"
   ]
  },
  {
   "cell_type": "code",
   "execution_count": 26,
   "metadata": {
    "collapsed": false
   },
   "outputs": [
    {
     "name": "stdout",
     "output_type": "stream",
     "text": [
      "  1 2 3 4 5 4 3 2 1 \n",
      "    1 2 3 4 3 2 1 \n",
      "      1 2 3 2 1 \n",
      "        1 2 1 \n",
      "          1 \n"
     ]
    }
   ],
   "source": [
    "def print_lower_half_diamond(n, m):\n",
    "    if (n == 0):\n",
    "        return\n",
    "    print_space(m - n + 1)\n",
    "    print_assending(n)\n",
    "    print_descending(n - 1)\n",
    "    print()\n",
    "    \n",
    "    print_lower_half_diamond(n-1,m)\n",
    "    \n",
    "print_lower_half_diamond(5, 5)"
   ]
  },
  {
   "cell_type": "code",
   "execution_count": 27,
   "metadata": {
    "collapsed": false
   },
   "outputs": [
    {
     "name": "stdout",
     "output_type": "stream",
     "text": [
      "        1 \n",
      "      1 2 1 \n",
      "    1 2 3 2 1 \n",
      "  1 2 3 4 3 2 1 \n",
      "1 2 3 4 5 4 3 2 1 \n",
      "  1 2 3 4 3 2 1 \n",
      "    1 2 3 2 1 \n",
      "      1 2 1 \n",
      "        1 \n"
     ]
    }
   ],
   "source": [
    "def print_diamond(n):\n",
    "    print_upper_half_diamond(n, n)\n",
    "    print_lower_half_diamond(n - 1, n -1 )\n",
    "    \n",
    "print_diamond(5)"
   ]
  },
  {
   "cell_type": "code",
   "execution_count": 28,
   "metadata": {
    "collapsed": false
   },
   "outputs": [
    {
     "name": "stdout",
     "output_type": "stream",
     "text": [
      "        1 \n",
      "      2 1 \n",
      "    3 2 1 \n",
      "  4 3 2 1 \n",
      "5 4 3 2 1 \n"
     ]
    }
   ],
   "source": [
    "def print_diamond_left_upper(n, m):\n",
    "        if (n == 0):\n",
    "            return\n",
    "        print_diamond_left_upper(n-1, m)\n",
    "        print_space(m - n)\n",
    "        print_descending(n)\n",
    "        print()\n",
    "        \n",
    "print_diamond_left_upper(5, 5)"
   ]
  },
  {
   "cell_type": "code",
   "execution_count": 29,
   "metadata": {
    "collapsed": false,
    "scrolled": true
   },
   "outputs": [
    {
     "name": "stdout",
     "output_type": "stream",
     "text": [
      "  4 3 2 1 \n",
      "    3 2 1 \n",
      "      2 1 \n",
      "        1 \n",
      "          \n"
     ]
    }
   ],
   "source": [
    "def print_diamond_left_lower(n, m):\n",
    "    if (n == 0):\n",
    "        return\n",
    "    print_diamond_left_lower(n-1, m)\n",
    "    print_space(n)\n",
    "    print_descending(m-n)\n",
    "    print()\n",
    "    \n",
    "print_diamond_left_lower(5,5)\n",
    "        "
   ]
  },
  {
   "cell_type": "code",
   "execution_count": 30,
   "metadata": {
    "collapsed": false,
    "scrolled": true
   },
   "outputs": [
    {
     "name": "stdout",
     "output_type": "stream",
     "text": [
      "        1 \n",
      "      2 1 \n",
      "    3 2 1 \n",
      "  4 3 2 1 \n",
      "5 4 3 2 1 \n",
      "  4 3 2 1 \n",
      "    3 2 1 \n",
      "      2 1 \n",
      "        1 \n",
      "          \n"
     ]
    }
   ],
   "source": [
    "def print_left_half_diamond(n):\n",
    "    print_diamond_left_upper(n,n)\n",
    "    print_diamond_left_lower(n,n)\n",
    "    return\n",
    "\n",
    "print_left_half_diamond(5)\n",
    "    "
   ]
  },
  {
   "cell_type": "code",
   "execution_count": 31,
   "metadata": {
    "collapsed": false
   },
   "outputs": [
    {
     "name": "stdout",
     "output_type": "stream",
     "text": [
      "1 \n",
      "1 2 \n",
      "1 2 3 \n",
      "1 2 3 4 \n",
      "1 2 3 4 5 \n"
     ]
    }
   ],
   "source": [
    "def print_upper_lines(n):\n",
    "    if (n == 0):\n",
    "        return\n",
    "    print_upper_lines(n-1)\n",
    "    print_assending(n)\n",
    "    print()\n",
    "    return\n",
    "\n",
    "print_upper_lines(5)"
   ]
  },
  {
   "cell_type": "code",
   "execution_count": 32,
   "metadata": {
    "collapsed": false
   },
   "outputs": [
    {
     "name": "stdout",
     "output_type": "stream",
     "text": [
      "1 2 3 4 5 \n",
      "1 2 3 4 \n",
      "1 2 3 \n",
      "1 2 \n",
      "1 \n"
     ]
    }
   ],
   "source": [
    "def print_lower_lines(n):\n",
    "    if (n == 0):\n",
    "        return\n",
    "    print_assending(n)\n",
    "    print()\n",
    "    print_lower_lines(n-1)\n",
    "\n",
    "    return\n",
    "\n",
    "print_lower_lines(5)"
   ]
  },
  {
   "cell_type": "code",
   "execution_count": 33,
   "metadata": {
    "collapsed": false
   },
   "outputs": [
    {
     "name": "stdout",
     "output_type": "stream",
     "text": [
      "5 5 5 5 5 "
     ]
    }
   ],
   "source": [
    "def print_same_value(n, m):\n",
    "    if (n == 0):\n",
    "        return\n",
    "    print_same_value(n-1, m)\n",
    "    print(str(m) + \" \", end=\"\")\n",
    "    \n",
    "print_same_value(5, 5)\n",
    "    "
   ]
  },
  {
   "cell_type": "code",
   "execution_count": 34,
   "metadata": {
    "collapsed": false
   },
   "outputs": [
    {
     "name": "stdout",
     "output_type": "stream",
     "text": [
      "1 2 3 4 5 4 3 2 1 \n",
      "  1 2 3 4 3 2 1 \n",
      "    1 2 3 2 1 \n",
      "      1 2 1 \n",
      "        1 \n"
     ]
    }
   ],
   "source": [
    "def print_reverse_pyramid(n, m):\n",
    "    if (n == 0):\n",
    "        return \n",
    "    print_reverse_pyramid(n-1, m)\n",
    "    print_space(n-1)\n",
    "    print_assending(m - n + 1)\n",
    "    print_descending(m -n )\n",
    "    print()\n",
    "    \n",
    "print_reverse_pyramid(5,5)\n",
    "\n",
    "# print_assending(5)"
   ]
  },
  {
   "cell_type": "code",
   "execution_count": 35,
   "metadata": {
    "collapsed": false
   },
   "outputs": [
    {
     "name": "stdout",
     "output_type": "stream",
     "text": [
      "        1 \n",
      "      1 2 1 \n",
      "    1 2 3 2 1 \n",
      "  1 2 3 4 3 2 1 \n",
      "1 2 3 4 5 4 3 2 1 \n"
     ]
    }
   ],
   "source": [
    "def print_number_pyramid(n, m):\n",
    "    if (n == 0):\n",
    "        return\n",
    "    print_number_pyramid(n-1, m)\n",
    "    print_space(m-n)\n",
    "    print_assending(n)\n",
    "    print_descending(n-1)\n",
    "    print()\n",
    "    \n",
    "print_number_pyramid(5, 5)"
   ]
  },
  {
   "cell_type": "code",
   "execution_count": 36,
   "metadata": {
    "collapsed": false
   },
   "outputs": [
    {
     "name": "stdout",
     "output_type": "stream",
     "text": [
      "1 2 3 4 5 "
     ]
    }
   ],
   "source": [
    "def print_upper_assending(n, m):\n",
    "    if (n == 0):\n",
    "        return\n",
    "    print(m - n + 1, end=\" \")\n",
    "    print_upper_assending(n-1, m)\n",
    "    \n",
    "print_upper_assending(5,5)"
   ]
  },
  {
   "cell_type": "code",
   "execution_count": 37,
   "metadata": {
    "collapsed": false
   },
   "outputs": [
    {
     "name": "stdout",
     "output_type": "stream",
     "text": [
      "4 3 2 1 0 "
     ]
    }
   ],
   "source": [
    "def print_upper_descending(n, m):\n",
    "    if (n == 0):\n",
    "        return\n",
    "    \n",
    "    print_upper_descending(n-1, m)\n",
    "    print(m - n, end=\" \")\n",
    "    \n",
    "print_upper_descending(5,5)"
   ]
  },
  {
   "cell_type": "code",
   "execution_count": 38,
   "metadata": {
    "collapsed": false
   },
   "outputs": [
    {
     "name": "stdout",
     "output_type": "stream",
     "text": [
      "        5 \n",
      "      4 5 4 \n",
      "    3 4 5 4 3 \n",
      "  2 3 4 5 4 3 2 \n",
      "1 2 3 4 5 4 3 2 1 \n"
     ]
    }
   ],
   "source": [
    "def print_reverse_number_pyramid(n, m):\n",
    "    if (n == 0):\n",
    "        return\n",
    "    print_reverse_number_pyramid(n-1, m)\n",
    "    print_space(m - n)\n",
    "    print_upper_assending(n, m)\n",
    "    print_upper_descending(n-1, m)\n",
    "    print()\n",
    "    \n",
    "print_reverse_number_pyramid(5,5)"
   ]
  },
  {
   "cell_type": "code",
   "execution_count": 39,
   "metadata": {
    "collapsed": false
   },
   "outputs": [
    {
     "name": "stdout",
     "output_type": "stream",
     "text": [
      "1 \n",
      "1 2 \n",
      "1 2 3 \n",
      "1 2 3 4 \n",
      "1 2 3 4 5 \n",
      "1 2 3 4 \n",
      "1 2 3 \n",
      "1 2 \n",
      "1 \n"
     ]
    }
   ],
   "source": [
    "def print_right_angled_pyramid(n):\n",
    "    print_upper_lines(n)\n",
    "    print_lower_lines(n-1)\n",
    "    \n",
    "print_right_angled_pyramid(5)"
   ]
  },
  {
   "cell_type": "code",
   "execution_count": 40,
   "metadata": {
    "collapsed": false
   },
   "outputs": [
    {
     "name": "stdout",
     "output_type": "stream",
     "text": [
      "1 \n",
      "2 2 \n",
      "3 3 3 \n",
      "4 4 4 4 \n",
      "5 5 5 5 5 \n"
     ]
    }
   ],
   "source": [
    "def print_same_value_upper_lines(n):\n",
    "    if (n == 0):\n",
    "        return\n",
    "    print_same_value_upper_lines(n-1)\n",
    "    print_same_value(n, n)\n",
    "    print()\n",
    "    \n",
    "print_same_value_upper_lines(5)"
   ]
  },
  {
   "cell_type": "code",
   "execution_count": 41,
   "metadata": {
    "collapsed": false
   },
   "outputs": [
    {
     "name": "stdout",
     "output_type": "stream",
     "text": [
      "0 1 0 1 0 \n",
      "\n",
      "        1 \n",
      "      2 2 \n",
      "    3 3 3 \n",
      "  4 4 4 4 \n",
      "5 5 5 5 5 \n"
     ]
    }
   ],
   "source": [
    "def print_space(n):\n",
    "    if (n == 0):\n",
    "        return\n",
    "    print_space(n-1)\n",
    "    print(\" \", end=\" \")\n",
    "    \n",
    "# print_space(4)\n",
    "\n",
    "\n",
    "def print_binary_value(n, m):\n",
    "    if (n == 0):\n",
    "        return\n",
    "    print_binary_value(n-1, m)\n",
    "    \n",
    "    if (n % 2 == 0):\n",
    "        print(str(1) + \" \", end=\"\")\n",
    "    else:\n",
    "        print(str(0) + \" \", end=\"\")\n",
    "    \n",
    "print_binary_value(5, 5)\n",
    "    \n",
    "\n",
    "\n",
    "def print_same_binary_value(n, m):\n",
    "    if (n == 0):\n",
    "        return\n",
    "    \n",
    "    print_same_binary_value(n-1, m)\n",
    "    print_space(m - n)\n",
    "    print_same_value(n, n)\n",
    "    \n",
    "    print()\n",
    "    \n",
    "print()\n",
    "print()\n",
    "\n",
    "print_same_binary_value(5, 5)"
   ]
  },
  {
   "cell_type": "code",
   "execution_count": 42,
   "metadata": {
    "collapsed": false
   },
   "outputs": [
    {
     "name": "stdout",
     "output_type": "stream",
     "text": [
      "5 5 5 5 5 \n",
      "4 4 4 4 \n",
      "3 3 3 \n",
      "2 2 \n",
      "1 \n"
     ]
    }
   ],
   "source": [
    "def print_same_value_lower_lines(n):\n",
    "    if (n == 0):\n",
    "        return\n",
    "    print_same_value(n, n)\n",
    "    print()\n",
    "    print_same_value_lower_lines(n-1)\n",
    "    \n",
    "\n",
    "    \n",
    "    \n",
    "print_same_value_lower_lines(5)"
   ]
  },
  {
   "cell_type": "code",
   "execution_count": 43,
   "metadata": {
    "collapsed": false
   },
   "outputs": [
    {
     "name": "stdout",
     "output_type": "stream",
     "text": [
      "1 \n",
      "2 2 \n",
      "3 3 3 \n",
      "4 4 4 4 \n",
      "5 5 5 5 5 \n",
      "4 4 4 4 \n",
      "3 3 3 \n",
      "2 2 \n",
      "1 \n"
     ]
    }
   ],
   "source": [
    "def print_right_angle_same_value_pyramid(n):\n",
    "    print_same_value_upper_lines(n)\n",
    "    print_same_value_lower_lines(n-1)\n",
    "    \n",
    "print_right_angle_same_value_pyramid(5)"
   ]
  },
  {
   "cell_type": "code",
   "execution_count": 44,
   "metadata": {
    "collapsed": false
   },
   "outputs": [
    {
     "name": "stdout",
     "output_type": "stream",
     "text": [
      "    * \n",
      "  * * * \n",
      "* * * * * \n",
      "  * * * \n",
      "    * \n"
     ]
    }
   ],
   "source": [
    "def triangles(n):\n",
    "#     if not n & 1:\n",
    "#         raise ValueError('n must be odd')\n",
    "    print_diamond(0, n, n >> 1)\n",
    "\n",
    "def print_diamond(start, stop, midpoint):\n",
    "    if start < stop:\n",
    "        if start <= midpoint:\n",
    "            print('  ' * (midpoint - start) + '* ' * ((start << 1) + 1))\n",
    "        else:\n",
    "            print('  ' * (start - midpoint) + '* ' * ((stop - start << 1) - 1))\n",
    "        print_diamond(start + 1, stop, midpoint)\n",
    "        \n",
    "triangles(5)"
   ]
  },
  {
   "cell_type": "code",
   "execution_count": 45,
   "metadata": {
    "collapsed": false
   },
   "outputs": [
    {
     "ename": "TypeError",
     "evalue": "print_diamond() takes 3 positional arguments but 4 were given",
     "output_type": "error",
     "traceback": [
      "\u001b[0;31m---------------------------------------------------------------------------\u001b[0m",
      "\u001b[0;31mTypeError\u001b[0m                                 Traceback (most recent call last)",
      "\u001b[0;32m<ipython-input-45-abdb6d93d721>\u001b[0m in \u001b[0;36m<module>\u001b[0;34m()\u001b[0m\n\u001b[1;32m     10\u001b[0m         \u001b[0mprint_diamond\u001b[0m\u001b[0;34m(\u001b[0m\u001b[0mstart\u001b[0m \u001b[0;34m+\u001b[0m \u001b[0;36m1\u001b[0m\u001b[0;34m,\u001b[0m \u001b[0mstop\u001b[0m\u001b[0;34m,\u001b[0m \u001b[0mmidpoint\u001b[0m\u001b[0;34m)\u001b[0m\u001b[0;34m\u001b[0m\u001b[0m\n\u001b[1;32m     11\u001b[0m \u001b[0;34m\u001b[0m\u001b[0m\n\u001b[0;32m---> 12\u001b[0;31m \u001b[0mtriangles\u001b[0m\u001b[0;34m(\u001b[0m\u001b[0;36m5\u001b[0m\u001b[0;34m)\u001b[0m\u001b[0;34m\u001b[0m\u001b[0m\n\u001b[0m",
      "\u001b[0;32m<ipython-input-45-abdb6d93d721>\u001b[0m in \u001b[0;36mtriangles\u001b[0;34m(n)\u001b[0m\n\u001b[1;32m      1\u001b[0m \u001b[0;32mdef\u001b[0m \u001b[0mtriangles\u001b[0m\u001b[0;34m(\u001b[0m\u001b[0mn\u001b[0m\u001b[0;34m)\u001b[0m\u001b[0;34m:\u001b[0m\u001b[0;34m\u001b[0m\u001b[0m\n\u001b[0;32m----> 2\u001b[0;31m     \u001b[0mprint_diamond\u001b[0m\u001b[0;34m(\u001b[0m\u001b[0;36m0\u001b[0m\u001b[0;34m,\u001b[0m \u001b[0mn\u001b[0m\u001b[0;34m,\u001b[0m \u001b[0mn\u001b[0m \u001b[0;34m>>\u001b[0m \u001b[0;36m1\u001b[0m\u001b[0;34m,\u001b[0m \u001b[0mn\u001b[0m\u001b[0;34m)\u001b[0m\u001b[0;34m\u001b[0m\u001b[0m\n\u001b[0m\u001b[1;32m      3\u001b[0m \u001b[0;34m\u001b[0m\u001b[0m\n\u001b[1;32m      4\u001b[0m \u001b[0;32mdef\u001b[0m \u001b[0mprint_diamond\u001b[0m\u001b[0;34m(\u001b[0m\u001b[0mstart\u001b[0m\u001b[0;34m,\u001b[0m \u001b[0mstop\u001b[0m\u001b[0;34m,\u001b[0m \u001b[0mmidpoint\u001b[0m\u001b[0;34m)\u001b[0m\u001b[0;34m:\u001b[0m\u001b[0;34m\u001b[0m\u001b[0m\n\u001b[1;32m      5\u001b[0m     \u001b[0;32mif\u001b[0m \u001b[0mstart\u001b[0m \u001b[0;34m<\u001b[0m \u001b[0mstop\u001b[0m\u001b[0;34m:\u001b[0m\u001b[0;34m\u001b[0m\u001b[0m\n",
      "\u001b[0;31mTypeError\u001b[0m: print_diamond() takes 3 positional arguments but 4 were given"
     ]
    }
   ],
   "source": [
    "def triangles(n):\n",
    "    print_diamond(0, n, n >> 1, n)\n",
    "\n",
    "def print_diamond(start, stop, midpoint):\n",
    "    if start < stop:\n",
    "        if start <= midpoint:\n",
    "            print('  ' * (midpoint - start) + '* ' * ((start << 1) + 1))\n",
    "        else:\n",
    "            print('  ' * (start - midpoint) + '* ' * ((stop - start << 1) - 1))\n",
    "        print_diamond(start + 1, stop, midpoint)\n",
    "        \n",
    "triangles(5)"
   ]
  },
  {
   "cell_type": "code",
   "execution_count": 106,
   "metadata": {
    "collapsed": false
   },
   "outputs": [
    {
     "data": {
      "text/plain": [
       "2"
      ]
     },
     "execution_count": 106,
     "metadata": {},
     "output_type": "execute_result"
    }
   ],
   "source": [
    "3 - 2 << 1"
   ]
  }
 ],
 "metadata": {
  "kernelspec": {
   "display_name": "Python 3",
   "language": "python",
   "name": "python3"
  },
  "language_info": {
   "codemirror_mode": {
    "name": "ipython",
    "version": 3
   },
   "file_extension": ".py",
   "mimetype": "text/x-python",
   "name": "python",
   "nbconvert_exporter": "python",
   "pygments_lexer": "ipython3",
   "version": "3.5.2"
  }
 },
 "nbformat": 4,
 "nbformat_minor": 2
}
