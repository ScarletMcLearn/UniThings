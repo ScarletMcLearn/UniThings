{
 "cells": [
  {
   "cell_type": "code",
   "execution_count": 20,
   "metadata": {
    "collapsed": true
   },
   "outputs": [],
   "source": [
    "graph = {}\n",
    "graph['you'] = ['alice', 'bob', 'claire']\n",
    "graph['bob'] = ['anuj', 'peggy']\n",
    "graph['alice'] = ['peggy']\n",
    "graph['claire'] = ['thom', 'jonny']\n",
    "graph['anuj'] = []\n",
    "graph['peggy'] = []\n",
    "graph['thom'] = []\n",
    "graph['jonny'] = []"
   ]
  },
  {
   "cell_type": "code",
   "execution_count": 21,
   "metadata": {
    "collapsed": false
   },
   "outputs": [],
   "source": [
    "from collections import deque\n",
    "\n",
    "search_queue = deque()\n",
    "search_queue += graph['you']"
   ]
  },
  {
   "cell_type": "code",
   "execution_count": 22,
   "metadata": {
    "collapsed": false
   },
   "outputs": [
    {
     "name": "stdout",
     "output_type": "stream",
     "text": [
      "thom is a mango seller! \n"
     ]
    }
   ],
   "source": [
    "# while (search_queue):\n",
    "#      person = search_queue.popleft()\n",
    "     \n",
    "#      if person_is_seller(person):\n",
    "#          print (person + ' is a mango seller!')\n",
    "#          return (True)\n",
    "#      else:\n",
    "#          search_queue += graph[person]\n",
    "#          return (False)\n",
    "    \n",
    "def person_is_seller(name):\n",
    "     return name[-1] == 'm'\n",
    "    \n",
    "while (search_queue):\n",
    "    person = search_queue.popleft()\n",
    "    \n",
    "    if (person_is_seller(person)):\n",
    "        print (person + \" is a mango seller! \")\n",
    "#         return (True)\n",
    "    \n",
    "    else:\n",
    "        search_queue += graph[person]\n",
    "#         return (False)"
   ]
  },
  {
   "cell_type": "code",
   "execution_count": 31,
   "metadata": {
    "collapsed": false
   },
   "outputs": [
    {
     "data": {
      "text/plain": [
       "NoneType"
      ]
     },
     "execution_count": 31,
     "metadata": {},
     "output_type": "execute_result"
    }
   ],
   "source": [
    "def search(name):\n",
    "    search_queue = deque()\n",
    "    search_queue += graph[name]\n",
    "    searched = []\n",
    "    \n",
    "    while search_queue:\n",
    "        person = search_queue.popleft()\n",
    "        \n",
    "        if not person in searched:\n",
    "            if person_is_seller(person):\n",
    "                print (person + ' is a mango seller!')\n",
    "                return (True)\n",
    "            \n",
    "        else:\n",
    "            search_queue += graph[person]\n",
    "            searched.append(person)\n",
    "            return (False) \n",
    "            \n",
    "type(search('jonny'))"
   ]
  },
  {
   "cell_type": "code",
   "execution_count": 30,
   "metadata": {
    "collapsed": false
   },
   "outputs": [
    {
     "data": {
      "text/plain": [
       "True"
      ]
     },
     "execution_count": 30,
     "metadata": {},
     "output_type": "execute_result"
    }
   ],
   "source": [
    "def test(a):\n",
    "    if (a == 2):\n",
    "        return (True)\n",
    "    else:\n",
    "        return (False)\n",
    "    \n",
    "test(2)"
   ]
  },
  {
   "cell_type": "code",
   "execution_count": null,
   "metadata": {
    "collapsed": true
   },
   "outputs": [],
   "source": []
  }
 ],
 "metadata": {
  "kernelspec": {
   "display_name": "Python 3",
   "language": "python",
   "name": "python3"
  },
  "language_info": {
   "codemirror_mode": {
    "name": "ipython",
    "version": 3
   },
   "file_extension": ".py",
   "mimetype": "text/x-python",
   "name": "python",
   "nbconvert_exporter": "python",
   "pygments_lexer": "ipython3",
   "version": "3.5.2"
  }
 },
 "nbformat": 4,
 "nbformat_minor": 2
}
