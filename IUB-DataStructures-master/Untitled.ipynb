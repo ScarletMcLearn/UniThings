{
 "cells": [
  {
   "cell_type": "markdown",
   "metadata": {},
   "source": [
    "# Linked Lists "
   ]
  },
  {
   "cell_type": "markdown",
   "metadata": {},
   "source": [
    "class Node(object):\n",
    "    \n",
    "    def __init__(self, data=None, next_node=None):\n",
    "        self.Data = data\n",
    "        self.Next_Node = next_node\n",
    "        \n",
    "    def get_data(self):\n",
    "        return (self.Data)\n",
    "    \n",
    "    def get_next_node(self):\n",
    "        return (self.Next_Node)\n",
    "    \n",
    "    def set_next_node(self, new_next_node):\n",
    "        self.next_node = new_next_node"
   ]
  },
  {
   "cell_type": "markdown",
   "metadata": {},
   "source": [
    "class LinkedList(object):\n",
    "    \n",
    "    def __init__(self, head=None):\n",
    "        self.Head = head"
   ]
  },
  {
   "cell_type": "code",
   "execution_count": 3,
   "metadata": {
    "collapsed": true
   },
   "outputs": [],
   "source": [
    "class Node:\n",
    "\n",
    "    def __init__(self, data):\n",
    "        self.Data = data\n",
    "        self.Next_Node = None\n"
   ]
  },
  {
   "cell_type": "code",
   "execution_count": 4,
   "metadata": {
    "collapsed": true
   },
   "outputs": [],
   "source": [
    "class LinkedList:\n",
    "    \n",
    "    def __init__(self):\n",
    "        self.head = None\n",
    "        self.tail = None\n",
    "        \n",
    "    def Add_Node(self, data):\n",
    "        new_node = Node(data)\n",
    "        \n",
    "        if (self.head == None):\n",
    "            self.head = new_node\n",
    "            \n",
    "        if (self.tail != None):\n",
    "            self.tail.next = new_node\n",
    "            \n",
    "        self.tail = new_node\n",
    "        \n",
    "    def Print_List(self):\n",
    "        node = self.head\n",
    "        \n",
    "        while (node != None):\n",
    "            print (node.data)\n",
    "            node = node.next"
   ]
  },
  {
   "cell_type": "code",
   "execution_count": 8,
   "metadata": {
    "collapsed": false
   },
   "outputs": [],
   "source": [
    "class Node:\n",
    "    def __init__(self,initdata):\n",
    "        self.data = initdata\n",
    "        self.next = None\n",
    "\n",
    "    def getData(self):\n",
    "        return self.data\n",
    "\n",
    "    def getNext(self):\n",
    "        return self.next\n",
    "\n",
    "    def setData(self,newdata):\n",
    "        self.data = newdata\n",
    "\n",
    "    def setNext(self,newnext):\n",
    "        self.next = newnext"
   ]
  },
  {
   "cell_type": "code",
   "execution_count": 10,
   "metadata": {
    "collapsed": false
   },
   "outputs": [
    {
     "data": {
      "text/plain": [
       "93"
      ]
     },
     "execution_count": 10,
     "metadata": {},
     "output_type": "execute_result"
    }
   ],
   "source": [
    "temp = Node(93)\n",
    "\n",
    "temp.getData()\n"
   ]
  },
  {
   "cell_type": "code",
   "execution_count": 19,
   "metadata": {
    "collapsed": true
   },
   "outputs": [],
   "source": [
    "class UnorderedList:     #Unordered List Class\n",
    "\n",
    "    def __init__(self):  #Constructor\n",
    "        self.head = None   #When Unordered List is created, it's empty, ie. head = None\n",
    "        \n",
    "    def isEmpty(self):         #Check if the list is empty\n",
    "        return self.head == None\n",
    "    \n",
    "    def add(self,item):\n",
    "        temp = Node(item)\n",
    "        temp.setNext(self.head)\n",
    "        self.head = temp\n",
    "\n",
    "    def size(self):\n",
    "        current = self.head\n",
    "        count = 0\n",
    "        while current != None:\n",
    "            count = count + 1\n",
    "            current = current.getNext()\n",
    "\n",
    "        return count\n",
    "    \n",
    "\n",
    "    def search(self,item):\n",
    "        current = self.head\n",
    "        found = False\n",
    "        while current != None and not found:\n",
    "            if current.getData() == item:\n",
    "                found = True\n",
    "            else:\n",
    "                current = current.getNext()\n",
    "\n",
    "        return found\n",
    "    \n",
    "    def remove(self,item):\n",
    "        current = self.head\n",
    "        previous = None\n",
    "        found = False\n",
    "        while not found:\n",
    "            if current.getData() == item:\n",
    "                found = True\n",
    "            else:\n",
    "                previous = current\n",
    "                current = current.getNext()\n",
    "\n",
    "        if previous == None:\n",
    "            self.head = current.getNext()\n",
    "        else:\n",
    "            previous.setNext(current.getNext())\n",
    "    "
   ]
  },
  {
   "cell_type": "code",
   "execution_count": 21,
   "metadata": {
    "collapsed": false
   },
   "outputs": [],
   "source": [
    "mylist = UnorderedList()\n",
    "mylist.add(31)\n",
    " "
   ]
  },
  {
   "cell_type": "code",
   "execution_count": 22,
   "metadata": {
    "collapsed": false
   },
   "outputs": [
    {
     "data": {
      "text/plain": [
       "False"
      ]
     },
     "execution_count": 22,
     "metadata": {},
     "output_type": "execute_result"
    }
   ],
   "source": [
    "mylist.search(17)\n"
   ]
  },
  {
   "cell_type": "code",
   "execution_count": 24,
   "metadata": {
    "collapsed": false
   },
   "outputs": [],
   "source": [
    "class Node:\n",
    "    def __init__(self, cargo=None, next=None):\n",
    "        self.cargo = cargo\n",
    "        self.next  = next\n",
    "\n",
    "    def __str__(self):\n",
    "        return str(self.cargo)"
   ]
  },
  {
   "cell_type": "markdown",
   "metadata": {},
   "source": [
    "kudos"
   ]
  },
  {
   "cell_type": "code",
   "execution_count": 41,
   "metadata": {
    "collapsed": true
   },
   "outputs": [],
   "source": [
    "class Node:                          #So - blueprint for a node\n",
    "    def __init__( self, data ):\n",
    "        self.data = data\n",
    "        self.next_node = None"
   ]
  },
  {
   "cell_type": "code",
   "execution_count": 42,
   "metadata": {
    "collapsed": false
   },
   "outputs": [],
   "source": [
    "class LinkedList:\n",
    "       def __init__( self ):\n",
    "                  self.head_of_list = None\n",
    "                  self.tail_of_list = None\n",
    "\n",
    "       def AddNode( self, data ):\n",
    "           new_node = Node( data )\n",
    "\n",
    "           if self.head == None:\n",
    "              self.head = new_node\n",
    "\n",
    "           if self.tail_of_list != None:\n",
    "              self.tail_of_list.next_node = new_node\n",
    "\n",
    "           self.tail_of_list = new_node\n",
    "\n",
    "       def RemoveNode( self, index ):\n",
    "           prev = None\n",
    "           node = self.head_of_list\n",
    "           i = 0\n",
    "\n",
    "           while ( node != None ) and ( i < index ):\n",
    "              prev = node\n",
    "              node = node.next_node\n",
    "              i += 1\n",
    "\n",
    "           if prev == None:\n",
    "              self.head_of_list = node.next_node\n",
    "           else:\n",
    "              prev.next_node = node.next_node "
   ]
  },
  {
   "cell_type": "code",
   "execution_count": 43,
   "metadata": {
    "collapsed": false
   },
   "outputs": [],
   "source": [
    "def PrintList( self ):\n",
    "   node = self.head\n",
    "\n",
    "   while node != None:\n",
    "      print (node.data)\n",
    "      node = node.next"
   ]
  },
  {
   "cell_type": "code",
   "execution_count": 47,
   "metadata": {
    "collapsed": false
   },
   "outputs": [
    {
     "name": "stdout",
     "output_type": "stream",
     "text": [
      "1\n",
      "2\n",
      "3\n",
      "4\n",
      "5\n"
     ]
    }
   ],
   "source": [
    "List = []\n",
    "\n",
    "List.append(1)\n",
    "List.append(2)\n",
    "List.append(3)\n",
    "List.append(4)\n",
    "List.append(5)\n",
    "\n",
    "for i in List:\n",
    "   print (i)"
   ]
  }
 ],
 "metadata": {
  "kernelspec": {
   "display_name": "Python 3",
   "language": "python",
   "name": "python3"
  },
  "language_info": {
   "codemirror_mode": {
    "name": "ipython",
    "version": 3
   },
   "file_extension": ".py",
   "mimetype": "text/x-python",
   "name": "python",
   "nbconvert_exporter": "python",
   "pygments_lexer": "ipython3",
   "version": "3.5.2"
  }
 },
 "nbformat": 4,
 "nbformat_minor": 2
}
